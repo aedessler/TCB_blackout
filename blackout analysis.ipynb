{
 "cells": [
  {
   "cell_type": "markdown",
   "id": "1b851f71",
   "metadata": {},
   "source": [
    "# estimate blackout deaths"
   ]
  },
  {
   "cell_type": "code",
   "execution_count": 1,
   "id": "9ba2c942",
   "metadata": {},
   "outputs": [
    {
     "name": "stdout",
     "output_type": "stream",
     "text": [
      "%pylab is deprecated, use %matplotlib inline and import the required libraries.\n",
      "Populating the interactive namespace from numpy and matplotlib\n"
     ]
    }
   ],
   "source": [
    "%pylab inline\n",
    "import pandas as pd\n",
    "import xarray as xr\n",
    "from scipy import interpolate\n",
    "import pickle"
   ]
  },
  {
   "cell_type": "code",
   "execution_count": 2,
   "id": "dbab4d59",
   "metadata": {},
   "outputs": [
    {
     "name": "stderr",
     "output_type": "stream",
     "text": [
      "/var/folders/hp/g2_ld8qx627b8pyd2ph0qvf00000gr/T/ipykernel_62784/1507606088.py:9: DtypeWarning: Columns (2) have mixed types. Specify dtype option on import or set low_memory=False.\n",
      "  df = pd.read_csv(file_path, usecols=[1, 2], parse_dates=[0], index_col=0)\n"
     ]
    }
   ],
   "source": [
    "## Function to load and process temperature data from CSV files\n",
    "# 1. Loads a CSV file\n",
    "# 2. Converts the second column to datetime and sets it as the index\n",
    "# 3. Converts the third column to float, handling any non-numeric values\n",
    "# 4. Calculates the daily average of the temperature data\n",
    "# 5. Returns the processed temperature data as a pandas Series\n",
    "def load_and_process_csv(file_path):\n",
    "    # Load the CSV file, ignoring the first column\n",
    "    df = pd.read_csv(file_path, usecols=[1, 2], parse_dates=[0], index_col=0)\n",
    "\n",
    "    # Convert the temperature column to float, handling non-numeric values\n",
    "    df.iloc[:, 0] = pd.to_numeric(df.iloc[:, 0], errors='coerce')\n",
    "\n",
    "    # Calculate the daily average of the data\n",
    "    daily_average = df.resample('D').mean()\n",
    "\n",
    "    # Rename the index to 'date'\n",
    "    daily_average.index.name = 'date'\n",
    "\n",
    "    daily_average = daily_average.iloc[:, 0]\n",
    "    daily_average.name = 'tmpc'\n",
    "    return daily_average\n",
    "\n",
    "## load the temperatures of Houston and Chicago\n",
    "iah = load_and_process_csv('iah.csv')\n",
    "chi = load_and_process_csv('ord.csv')\n",
    "sea = load_and_process_csv('sea.csv')\n",
    "phx = load_and_process_csv('phx.csv')\n",
    "\n",
    "# Merge iah, chi, sea, and phx into a single dataframe using the datetime index\n",
    "temperatures = pd.merge(\n",
    "    pd.merge(\n",
    "        pd.merge(\n",
    "            iah.to_frame(name='iah_temp'),\n",
    "            chi.to_frame(name='chi_temp'),\n",
    "            left_index=True, right_index=True, how='outer'\n",
    "        ),\n",
    "        sea.to_frame(name='sea_temp'),\n",
    "        left_index=True, right_index=True, how='outer'\n",
    "    ),\n",
    "    phx.to_frame(name='phx_temp'),\n",
    "    left_index=True, right_index=True, how='outer'\n",
    ")\n",
    "\n",
    "# Rename the columns to 'houston', 'chicago', 'seattle', and 'phoenix'\n",
    "temperatures = temperatures.rename(columns={\n",
    "    'iah_temp': 'houston',\n",
    "    'chi_temp': 'chicago',\n",
    "    'sea_temp': 'seattle',\n",
    "    'phx_temp': 'phoenix'\n",
    "})"
   ]
  },
  {
   "cell_type": "code",
   "execution_count": 3,
   "id": "11b039c6",
   "metadata": {},
   "outputs": [
    {
     "name": "stdout",
     "output_type": "stream",
     "text": [
      "                ot        smt\n",
      "houston  28.550681  28.595174\n",
      "chicago   22.84935  22.769819\n",
      "seattle   18.35625  18.685461\n",
      "phoenix  34.751339  34.902902\n"
     ]
    }
   ],
   "source": [
    "## This cell generates the statistics needed for the Shindell RR curve parameterization\n",
    "# Calculate 84th percentile (OT) and summer mean temperature (SMT) for Houston and Chicago\n",
    "ot = temperatures[['houston', 'chicago', 'seattle', 'phoenix']].quantile(0.84)\n",
    "smt = temperatures[['houston', 'chicago', 'seattle', 'phoenix']][temperatures.index.month.isin([6,7,8])].mean()\n",
    "\n",
    "# Create a new dataframe with rows for Houston and Chicago, columns for OT and SMT\n",
    "climate_stats = pd.DataFrame({\n",
    "    'ot': ot,\n",
    "    'smt': smt\n",
    "})\n",
    "\n",
    "print(climate_stats)"
   ]
  },
  {
   "cell_type": "code",
   "execution_count": 4,
   "id": "5988e993-5e12-4609-b5db-03ec1acbf542",
   "metadata": {},
   "outputs": [],
   "source": [
    "## define the rr curve function\n",
    "def rr_curve(x, t):\n",
    "    \"\"\"create a parameterized rr curve using the recipe from Shindell et al. 2020\n",
    "    assumes that climate_stats is defined with 'smt' and 'ot' columns\"\"\"\n",
    "    rr = 1 - 0.0014*(climate_stats.loc[x, 'smt'] - 30.9)*(t-climate_stats.loc[x, 'ot'])**2 + 0.005*(climate_stats.loc[x, 'smt'] - 26.7)*(t-climate_stats.loc[x, 'ot'])\n",
    "    rr[rr < 1] = 1\n",
    "    return rr"
   ]
  },
  {
   "cell_type": "code",
   "execution_count": 5,
   "id": "dc9baeae",
   "metadata": {},
   "outputs": [],
   "source": [
    "def calc_heat_deaths(city, temperature):\n",
    "    \"\"\"given a city and the temperatures, return the \n",
    "    heat-related deaths.  return zero if temperature is\n",
    "    below the OT for that city\"\"\"\n",
    "\n",
    "    rr = rr_curve(city, temperature)\n",
    "    heatDeaths = (rr - 1) * mmtDeaths\n",
    "    heatDeaths[temperature < climate_stats.loc[city, 'ot']] = 0\n",
    "    return heatDeaths"
   ]
  },
  {
   "cell_type": "markdown",
   "id": "d8c738e4",
   "metadata": {},
   "source": [
    "## calculate deaths due to heat"
   ]
  },
  {
   "cell_type": "code",
   "execution_count": 12,
   "id": "20634ce5-96d2-4bf1-836b-a6710653e9a3",
   "metadata": {},
   "outputs": [],
   "source": [
    "# totalPop = 7_510_253 # Houston metropolitan area\n",
    "# dailyDeathsPer100k = 2.3\n",
    "# mmtDeaths = totalPop/1e5*dailyDeathsPer100k\n",
    "# print(f'baseline mortality per day: {mmtDeaths:.0f}')\n",
    "\n",
    "## mmtDeaths depends on what you count as the base population\n",
    "## From Texas Tribune data\n",
    "mmtDeaths = 84 ## this is the number of deaths at the optimal temperature (OT)"
   ]
  },
  {
   "cell_type": "code",
   "execution_count": 10,
   "id": "b051e467-753e-49c3-a024-de9509d9be2b",
   "metadata": {},
   "outputs": [
    {
     "data": {
      "image/png": "[encoded data removed]",
      "text/plain": [
       "<Figure size 640x480 with 1 Axes>"
      ]
     },
     "metadata": {},
     "output_type": "display_data"
    }
   ],
   "source": [
    "## plot the RR curve for Houston and Chicago\n",
    "for ii in 'houston chicago seattle'.split():\n",
    "    x = np.linspace(climate_stats.loc[ii, 'ot'], 45)\n",
    "    plot(x, rr_curve(ii, x), label = ii)\n",
    "plt.legend()\n",
    "plt.xlabel('Temperature (C)')\n",
    "plt.ylabel('risk ratio')\n",
    "plt.savefig('rr_curve.jpg',dpi=300)\n",
    "plt.show()"
   ]
  },
  {
   "cell_type": "markdown",
   "id": "4dceb780-e401-4a36-bb8e-c9ff24372b7b",
   "metadata": {},
   "source": [
    "## Beryl deaths\n",
    "We'll now calculate the deaths resulting from the power outage caused by Hurricane Beryl.  To do this, we'll first estimate deaths using Houston's risk ratio (RR) curve under normal conditions.  Then, we'll replace Houston's RR curve with those of Chicago and Seattle, under the assumption\n",
    "that Houston without power might resemble the conditions in these other cities.  The difference between the deaths estimated with Chicago or Seattle and Houston is an estimate of the additional deaths caused by the power outage."
   ]
  },
  {
   "cell_type": "code",
   "execution_count": 39,
   "id": "47b5fb93",
   "metadata": {},
   "outputs": [
    {
     "name": "stdout",
     "output_type": "stream",
     "text": [
      "   Date     Temperature  Seattle - Houston  Chicago - Houston\n",
      "2024-07-09      28.6           138.1               26.2      \n",
      "2024-07-10      29.4           162.5               34.6      \n",
      "2024-07-11      27.7           111.8               17.2      \n",
      "2024-07-12      25.9            67.1               4.6       \n",
      "2024-07-13      26.4            78.7               7.4       \n"
     ]
    },
    {
     "name": "stderr",
     "output_type": "stream",
     "text": [
      "/var/folders/hp/g2_ld8qx627b8pyd2ph0qvf00000gr/T/ipykernel_62784/2543930757.py:30: FutureWarning: DataFrame.applymap has been deprecated. Use DataFrame.map instead.\n",
      "  formatted_beryl_deaths = beryl_deaths.applymap(lambda x: format(x, \".1f\"))\n"
     ]
    }
   ],
   "source": [
    "# Define the date range for Hurricane Beryl\n",
    "dates_beryl = pd.date_range(start='2024-07-09', end='2024-07-13')\n",
    "\n",
    "## Calculate heat-related deaths for different scenarios\n",
    "# powerOn: Deaths in Houston with normal power conditions\n",
    "# powerOff: Deaths in Houston if it had Seattle's heat vulnerability (simulating power outage)\n",
    "# powerOff2: Deaths in Houston if it had Chicago's heat vulnerability (simulating power outage)\n",
    "powerOn = calc_heat_deaths('houston', temperatures['houston']).loc[dates_beryl]\n",
    "powerOff = calc_heat_deaths('seattle', temperatures['houston']).loc[dates_beryl]\n",
    "powerOff2 = calc_heat_deaths('chicago', temperatures['houston']).loc[dates_beryl]\n",
    "\n",
    "total_deaths = pd.DataFrame()\n",
    "total_deaths['Temperature'] = temperatures['houston'].loc[dates_beryl]\n",
    "total_deaths['Houston'] = powerOn\n",
    "total_deaths['Seattle'] = powerOff\n",
    "total_deaths['Chicago'] = powerOff2\n",
    "# print(total_deaths.applymap(lambda x: format(x, \".1f\")))\n",
    "# print()\n",
    "\n",
    "# Difference between powerOn and powerOff is \n",
    "# an estimate of the additional deaths caused by the power outage\n",
    "beryl_deaths = pd.DataFrame()\n",
    "beryl_deaths['Temperature'] = temperatures['houston'].loc[dates_beryl]\n",
    "beryl_deaths['Seattle - Houston'] = powerOff - powerOn\n",
    "beryl_deaths['Chicago - Houston'] = powerOff2 - powerOn\n",
    "beryl_deaths.columns = beryl_deaths.columns.str.title()\n",
    "\n",
    "## print out neat table\n",
    "# Format numbers to one decimal place\n",
    "formatted_beryl_deaths = beryl_deaths.applymap(lambda x: format(x, \".1f\"))\n",
    "\n",
    "# Add the date column\n",
    "formatted_beryl_deaths['Date'] = beryl_deaths.index.strftime('%Y-%m-%d')\n",
    "\n",
    "# Reorder columns to put Date first\n",
    "columns_order = ['Date', 'Temperature', 'Seattle - Houston', 'Chicago - Houston']\n",
    "formatted_beryl_deaths = formatted_beryl_deaths[columns_order]\n",
    "\n",
    "# Get the maximum width of each column (including the header)\n",
    "col_widths = [max(len(col), formatted_beryl_deaths[col].str.len().max()) for col in formatted_beryl_deaths.columns]\n",
    "\n",
    "# Print the header\n",
    "header = \"  \".join(col.center(width) for col, width in zip(formatted_beryl_deaths.columns, col_widths))\n",
    "print(header)\n",
    "\n",
    "# Print the formatted and centered data\n",
    "for _, row in formatted_beryl_deaths.iterrows():\n",
    "    centered_row = \"  \".join(val.center(width) for val, width in zip(row, col_widths))\n",
    "    print(centered_row)"
   ]
  },
  {
   "cell_type": "markdown",
   "id": "55d213b5",
   "metadata": {},
   "source": [
    "To estimating the impacts of power outage, we assume that power is entirely out for two days, then out for 50% of the people in the next 3 days."
   ]
  },
  {
   "cell_type": "code",
   "execution_count": 24,
   "id": "7e525cb3",
   "metadata": {},
   "outputs": [
    {
     "name": "stdout",
     "output_type": "stream",
     "text": [
      "Estimated additional deaths due to power outage:\n",
      "    Seattle - Houston    360.650691\n",
      "Chicago - Houston         63.413839\n",
      "dtype: object\n"
     ]
    }
   ],
   "source": [
    "# Sum the first two rows of beryl_deaths\n",
    "first_two_sum = beryl_deaths.iloc[:2].sum()\n",
    "\n",
    "# Add half of the next three rows\n",
    "next_three_half_sum = beryl_deaths.iloc[2:5].sum() / 2\n",
    "\n",
    "# Calculate the total\n",
    "total_deaths = first_two_sum + next_three_half_sum\n",
    "total_deaths = total_deaths.drop('Temperature', axis=0)\n",
    "\n",
    "print(f\"Estimated additional deaths due to power outage:\")\n",
    "print(total_deaths)"
   ]
  },
  {
   "cell_type": "markdown",
   "id": "3d43c43d",
   "metadata": {},
   "source": [
    "# Recalculating for the very hot period from the WaPo article\n",
    "\n",
    "It turns out that Houston was not particularly hot in the few days after Barrel. In this section, we'll redo our calculations using the very hot period mentioned in the Washington Post article. This analysis simulates what could happen if we were unlucky and the power outage coincided with an extremely hot period."
   ]
  },
  {
   "cell_type": "code",
   "execution_count": 44,
   "id": "ac5c1344",
   "metadata": {},
   "outputs": [],
   "source": [
    "## from the WaPo article, this is the period they focus on\n",
    "dates_hot = pd.date_range(start='2011-08-07', end='2011-08-11')"
   ]
  },
  {
   "cell_type": "code",
   "execution_count": 45,
   "id": "d44099e5",
   "metadata": {},
   "outputs": [
    {
     "name": "stdout",
     "output_type": "stream",
     "text": [
      "   Date     Temperature  Seattle - Houston  Chicago - Houston\n",
      "2011-08-07      31.6           240.8               64.0      \n",
      "2011-08-08      31.6           240.1               63.7      \n",
      "2011-08-09      32.0           258.4               71.0      \n",
      "2011-08-10      31.8           249.8               67.5      \n",
      "2011-08-11      32.0           256.5               70.2      \n"
     ]
    },
    {
     "name": "stderr",
     "output_type": "stream",
     "text": [
      "/var/folders/hp/g2_ld8qx627b8pyd2ph0qvf00000gr/T/ipykernel_62784/285653389.py:13: FutureWarning: DataFrame.applymap has been deprecated. Use DataFrame.map instead.\n",
      "  formatted_beryl_deaths = beryl_deaths.applymap(lambda x: format(x, \".1f\"))\n"
     ]
    }
   ],
   "source": [
    "powerOn = calc_heat_deaths('houston',temperatures['houston']).loc[dates_hot]\n",
    "powerOff = calc_heat_deaths('seattle',temperatures['houston']).loc[dates_hot]\n",
    "powerOff2 = calc_heat_deaths('chicago',temperatures['houston']).loc[dates_hot]\n",
    "\n",
    "# Combine powerOn and powerOff into a single dataframe\n",
    "beryl_deaths = pd.DataFrame()\n",
    "beryl_deaths['Temperature'] = temperatures['houston'].loc[dates_hot]\n",
    "beryl_deaths['Seattle - Houston'] = powerOff - powerOn\n",
    "beryl_deaths['Chicago - Houston'] = powerOff2 - powerOn\n",
    "\n",
    "# Print the updated dataframe\n",
    "# Format numbers to one decimal place\n",
    "formatted_beryl_deaths = beryl_deaths.applymap(lambda x: format(x, \".1f\"))\n",
    "\n",
    "# Add the date column\n",
    "formatted_beryl_deaths['Date'] = beryl_deaths.index.strftime('%Y-%m-%d')\n",
    "\n",
    "# Reorder columns to put Date first\n",
    "columns_order = ['Date', 'Temperature', 'Seattle - Houston', 'Chicago - Houston']\n",
    "formatted_beryl_deaths = formatted_beryl_deaths[columns_order]\n",
    "\n",
    "# Get the maximum width of each column (including the header)\n",
    "col_widths = [max(len(col), formatted_beryl_deaths[col].str.len().max()) for col in formatted_beryl_deaths.columns]\n",
    "\n",
    "# Print the header\n",
    "header = \"  \".join(col.center(width) for col, width in zip(formatted_beryl_deaths.columns, col_widths))\n",
    "print(header)\n",
    "\n",
    "# Print the formatted and centered data\n",
    "for _, row in formatted_beryl_deaths.iterrows():\n",
    "    centered_row = \"  \".join(val.center(width) for val, width in zip(row, col_widths))\n",
    "    print(centered_row)"
   ]
  },
  {
   "cell_type": "code",
   "execution_count": 46,
   "id": "b318a6b9",
   "metadata": {},
   "outputs": [
    {
     "name": "stdout",
     "output_type": "stream",
     "text": [
      "Estimated additional deaths due to power outage:\n",
      "Seattle - Houston    863.262978\n",
      "Chicago - Houston    232.092438\n",
      "dtype: object\n"
     ]
    }
   ],
   "source": [
    "# Sum the first two rows of beryl_deaths\n",
    "first_two_sum = beryl_deaths.iloc[:2].sum()\n",
    "\n",
    "# Add half of the next three rows\n",
    "next_three_half_sum = beryl_deaths.iloc[2:5].sum() / 2\n",
    "\n",
    "# Calculate the total\n",
    "total_deaths = first_two_sum + next_three_half_sum\n",
    "\n",
    "# Drop the 'Temperature' row\n",
    "total_deaths = total_deaths.drop('Temperature')\n",
    "\n",
    "print(f\"Estimated additional deaths due to power outage:\")\n",
    "print(total_deaths)\n"
   ]
  },
  {
   "cell_type": "markdown",
   "id": "d28aaa4e",
   "metadata": {},
   "source": [
    "### Testing the impact of increased temperature\n",
    "\n",
    "Now, let's examine the effect on heat-related deaths if this already extremely hot period were to be even hotter. We'll simulate a scenario where the temperature is 2°C higher than what was actually recorded during this time. This analysis will help us understand the potential consequences of further temperature increases, which could occur due to factors such as climate change or urban heat island effects."
   ]
  },
  {
   "cell_type": "code",
   "execution_count": 47,
   "id": "248b684e",
   "metadata": {},
   "outputs": [
    {
     "name": "stdout",
     "output_type": "stream",
     "text": [
      "               seattle     chicago\n",
      "2011-08-07   323.09124   97.341397\n",
      "2011-08-08  322.237206   96.985646\n",
      "2011-08-09  343.173441  105.757104\n",
      "2011-08-10  333.367923  101.636083\n",
      "2011-08-11  341.039373  104.858323\n"
     ]
    }
   ],
   "source": [
    "powerOn = calc_heat_deaths('houston',temperatures['houston']+2).loc[dates_hot]\n",
    "powerOff = calc_heat_deaths('seattle',temperatures['houston']+2).loc[dates_hot]\n",
    "powerOff2 = calc_heat_deaths('chicago',temperatures['houston']+2).loc[dates_hot]\n",
    "\n",
    "# Combine powerOn and powerOff into a single dataframe\n",
    "beryl_deaths = pd.DataFrame()\n",
    "beryl_deaths['seattle'] = powerOff - powerOn\n",
    "beryl_deaths['chicago'] = powerOff2 - powerOn\n",
    "\n",
    "# Print the updated dataframe\n",
    "print(beryl_deaths)"
   ]
  },
  {
   "cell_type": "code",
   "execution_count": 48,
   "id": "1c743e35",
   "metadata": {},
   "outputs": [
    {
     "name": "stdout",
     "output_type": "stream",
     "text": [
      "Estimated additional deaths due to power outage:\n",
      "seattle    1154.118814\n",
      "chicago     350.452798\n",
      "dtype: object\n"
     ]
    }
   ],
   "source": [
    "# Sum the first two rows of beryl_deaths\n",
    "first_two_sum = beryl_deaths.iloc[:2].sum()\n",
    "\n",
    "# Add half of the next three rows\n",
    "next_three_half_sum = beryl_deaths.iloc[2:5].sum() / 2\n",
    "\n",
    "# Calculate the total\n",
    "total_deaths = first_two_sum + next_three_half_sum\n",
    "\n",
    "print(f\"Estimated additional deaths due to power outage:\")\n",
    "print(total_deaths)\n"
   ]
  },
  {
   "cell_type": "markdown",
   "id": "c045ba2b-3bd0-4c9d-a1f3-c07541b0c3c0",
   "metadata": {},
   "source": [
    "## Phoenix Analysis\n",
    "\n",
    "Now, let's extend our analysis to include Phoenix, a city known for its extreme heat. We'll compare how Phoenix's heat-related deaths might differ from the other cities we've analyzed, both under normal conditions and with a simulated power outage.\n"
   ]
  },
  {
   "cell_type": "code",
   "execution_count": 49,
   "id": "8292e2eb",
   "metadata": {},
   "outputs": [],
   "source": [
    "mmtDeaths = 100 ## estimated from data here: https://pub.azdhs.gov/health-stats/menu/info/trend/index.php?pg=deaths"
   ]
  },
  {
   "cell_type": "code",
   "execution_count": 50,
   "id": "53d7e1d9",
   "metadata": {},
   "outputs": [
    {
     "name": "stdout",
     "output_type": "stream",
     "text": [
      "The five hottest consecutive days in Phoenix:\n",
      "DatetimeIndex(['2023-07-18', '2023-07-19', '2023-07-20', '2023-07-21',\n",
      "               '2023-07-22'],\n",
      "              dtype='datetime64[ns]', freq='D')\n",
      "\n",
      "Temperatures during this period:\n",
      "2023-07-18      41.1964\n",
      "2023-07-19    42.060417\n",
      "2023-07-20        41.25\n",
      "2023-07-21      40.2224\n",
      "2023-07-22      41.0048\n",
      "Freq: D, Name: phoenix, dtype: object\n",
      "\n",
      "Average temperature: 41.15°C\n"
     ]
    }
   ],
   "source": [
    "def find_hottest_period(series, days=5):\n",
    "    # Calculate the rolling mean for the specified number of days\n",
    "    rolling_mean = series.rolling(window=days).mean()\n",
    "    \n",
    "    # Find the date with the highest rolling mean\n",
    "    hottest_end_date = rolling_mean.idxmax()\n",
    "    \n",
    "    # Calculate the start date of the hottest period\n",
    "    hottest_start_date = hottest_end_date - pd.Timedelta(days=days-1)\n",
    "    \n",
    "    # Get the date range for the hottest period\n",
    "    hottest_dates = pd.date_range(start=hottest_start_date, end=hottest_end_date)\n",
    "    \n",
    "    return hottest_dates\n",
    "\n",
    "# Find the five hottest consecutive days in Phoenix\n",
    "dates_hot = find_hottest_period(temperatures.phoenix, days=5)\n",
    "\n",
    "# Print the results\n",
    "print(\"The five hottest consecutive days in Phoenix:\")\n",
    "print(dates_hot)\n",
    "print(\"\\nTemperatures during this period:\")\n",
    "print(temperatures.phoenix[dates_hot])\n",
    "print(f\"\\nAverage temperature: {temperatures.phoenix[dates_hot].mean():.2f}°C\")"
   ]
  },
  {
   "cell_type": "code",
   "execution_count": 51,
   "id": "7a73fa1f",
   "metadata": {},
   "outputs": [
    {
     "name": "stdout",
     "output_type": "stream",
     "text": [
      "               seattle     chicago\n",
      "2023-07-18  795.044227  341.581762\n",
      "2023-07-19  860.297288  376.766483\n",
      "2023-07-20  799.018387  343.715446\n",
      "2023-07-21  724.550962  303.960657\n",
      "2023-07-22  780.917632  334.007319\n"
     ]
    }
   ],
   "source": [
    "powerOn = calc_heat_deaths_phoenix(temperatures['phoenix']).loc[dates_hot]\n",
    "powerOff = calc_heat_deaths('seattle',temperatures['phoenix']).loc[dates_hot]\n",
    "powerOff2 = calc_heat_deaths('chicago',temperatures['phoenix']).loc[dates_hot]\n",
    "\n",
    "# Combine powerOn and powerOff into a single dataframe\n",
    "beryl_deaths = pd.DataFrame()\n",
    "beryl_deaths['seattle'] = powerOff - powerOn\n",
    "beryl_deaths['chicago'] = powerOff2 - powerOn\n",
    "\n",
    "# Print the updated dataframe\n",
    "print(beryl_deaths)"
   ]
  },
  {
   "cell_type": "code",
   "execution_count": 52,
   "id": "19475cb1",
   "metadata": {},
   "outputs": [
    {
     "name": "stdout",
     "output_type": "stream",
     "text": [
      "Estimated additional deaths due to power outage:\n",
      "seattle    2807.585006\n",
      "chicago    1209.189955\n",
      "dtype: object\n"
     ]
    }
   ],
   "source": [
    "# Sum the first two rows of beryl_deaths\n",
    "first_two_sum = beryl_deaths.iloc[:2].sum()\n",
    "\n",
    "# Add half of the next three rows\n",
    "next_three_half_sum = beryl_deaths.iloc[2:5].sum() / 2\n",
    "\n",
    "# Calculate the total\n",
    "total_deaths = first_two_sum + next_three_half_sum\n",
    "\n",
    "print(f\"Estimated additional deaths due to power outage:\")\n",
    "print(total_deaths)\n"
   ]
  },
  {
   "cell_type": "code",
   "execution_count": null,
   "id": "a9abf687",
   "metadata": {},
   "outputs": [],
   "source": []
  }
 ],
 "metadata": {
  "kernelspec": {
   "display_name": "Python 3 (ipykernel)",
   "language": "python",
   "name": "python3"
  },
  "language_info": {
   "codemirror_mode": {
    "name": "ipython",
    "version": 3
   },
   "file_extension": ".py",
   "mimetype": "text/x-python",
   "name": "python",
   "nbconvert_exporter": "python",
   "pygments_lexer": "ipython3",
   "version": "3.11.5"
  }
 },
 "nbformat": 4,
 "nbformat_minor": 5
}
